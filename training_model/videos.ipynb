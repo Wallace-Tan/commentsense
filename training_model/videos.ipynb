{
  "cells": [
    {
      "cell_type": "markdown",
      "metadata": {
        "id": "qbFGJfQyl9gE"
      },
      "source": [
        "# EDA"
      ]
    },
    {
      "cell_type": "code",
      "execution_count": 4,
      "metadata": {
        "colab": {
          "base_uri": "https://localhost:8080/"
        },
        "id": "wbGvpMgebxN9",
        "outputId": "bd9b360d-e923-4848-a783-d06eb74b1a56"
      },
      "outputs": [
        {
          "name": "stdout",
          "output_type": "stream",
          "text": [
            "Collecting wordsegment\n",
            "  Using cached wordsegment-1.3.1-py2.py3-none-any.whl.metadata (7.7 kB)\n",
            "Using cached wordsegment-1.3.1-py2.py3-none-any.whl (4.8 MB)\n",
            "Installing collected packages: wordsegment\n",
            "Successfully installed wordsegment-1.3.1\n"
          ]
        }
      ],
      "source": [
        "pip install wordsegment"
      ]
    },
    {
      "cell_type": "code",
      "execution_count": 5,
      "metadata": {
        "id": "X29OU98XHADA"
      },
      "outputs": [],
      "source": [
        "import pandas as pd\n",
        "import numpy as np\n",
        "import re\n",
        "from wordsegment import load, segment"
      ]
    },
    {
      "cell_type": "code",
      "execution_count": null,
      "metadata": {
        "id": "tmUog4JxGR_a"
      },
      "outputs": [],
      "source": [
        "df = pd.read_csv(\"../data/videos.csv\")"
      ]
    },
    {
      "cell_type": "code",
      "execution_count": 7,
      "metadata": {
        "colab": {
          "base_uri": "https://localhost:8080/"
        },
        "collapsed": true,
        "id": "mbto699TlRdv",
        "outputId": "2906ea17-c3b3-433b-a73d-3d8c5caaa23c"
      },
      "outputs": [
        {
          "name": "stdout",
          "output_type": "stream",
          "text": [
            "<class 'pandas.core.frame.DataFrame'>\n",
            "RangeIndex: 92759 entries, 0 to 92758\n",
            "Data columns (total 15 columns):\n",
            " #   Column                Non-Null Count  Dtype  \n",
            "---  ------                --------------  -----  \n",
            " 0   kind                  92759 non-null  object \n",
            " 1   videoId               92759 non-null  int64  \n",
            " 2   publishedAt           92759 non-null  object \n",
            " 3   channelId             92759 non-null  int64  \n",
            " 4   title                 92759 non-null  object \n",
            " 5   description           35237 non-null  object \n",
            " 6   tags                  20891 non-null  object \n",
            " 7   defaultLanguage       15785 non-null  object \n",
            " 8   defaultAudioLanguage  29956 non-null  object \n",
            " 9   contentDuration       91492 non-null  object \n",
            " 10  viewCount             91490 non-null  float64\n",
            " 11  likeCount             86630 non-null  float64\n",
            " 12  favouriteCount        91492 non-null  float64\n",
            " 13  commentCount          90294 non-null  float64\n",
            " 14  topicCategories       91228 non-null  object \n",
            "dtypes: float64(4), int64(2), object(9)\n",
            "memory usage: 10.6+ MB\n",
            "None\n"
          ]
        }
      ],
      "source": [
        "print(df.info())"
      ]
    },
    {
      "cell_type": "code",
      "execution_count": 8,
      "metadata": {
        "colab": {
          "base_uri": "https://localhost:8080/"
        },
        "collapsed": true,
        "id": "Ir4Ouf7-G7U1",
        "outputId": "dafcc189-1c3f-4fe2-b96e-3aa16c65a83d"
      },
      "outputs": [
        {
          "name": "stdout",
          "output_type": "stream",
          "text": [
            "Index(['kind', 'videoId', 'publishedAt', 'channelId', 'title', 'description',\n",
            "       'tags', 'defaultLanguage', 'defaultAudioLanguage', 'contentDuration',\n",
            "       'viewCount', 'likeCount', 'favouriteCount', 'commentCount',\n",
            "       'topicCategories'],\n",
            "      dtype='object')\n"
          ]
        }
      ],
      "source": [
        "print(df.columns)"
      ]
    },
    {
      "cell_type": "code",
      "execution_count": 9,
      "metadata": {
        "colab": {
          "base_uri": "https://localhost:8080/"
        },
        "collapsed": true,
        "id": "UMANBvJdfeOu",
        "outputId": "accd0d6b-cecb-4b5d-abd8-489ef4f53738"
      },
      "outputs": [
        {
          "name": "stdout",
          "output_type": "stream",
          "text": [
            "Index(['videoId', 'publishedAt', 'channelId', 'title', 'description', 'tags',\n",
            "       'contentDuration', 'viewCount', 'likeCount', 'favouriteCount',\n",
            "       'commentCount', 'topicCategories'],\n",
            "      dtype='object')\n"
          ]
        }
      ],
      "source": [
        "# Drop unnecessary columns\n",
        "df = df.drop(['kind', 'defaultAudioLanguage','defaultLanguage'], axis=1)\n",
        "\n",
        "# Print remaining columns\n",
        "print(df.columns)"
      ]
    },
    {
      "cell_type": "code",
      "execution_count": 10,
      "metadata": {
        "colab": {
          "base_uri": "https://localhost:8080/"
        },
        "id": "VDEAdl5GgoHS",
        "outputId": "a67bc354-c466-4f6a-b3f9-24558f0a9745"
      },
      "outputs": [
        {
          "name": "stdout",
          "output_type": "stream",
          "text": [
            "description        57522\n",
            "tags               71868\n",
            "contentDuration     1267\n",
            "viewCount           1269\n",
            "likeCount           6129\n",
            "favouriteCount      1267\n",
            "commentCount        2465\n",
            "topicCategories     1531\n",
            "dtype: int64\n"
          ]
        }
      ],
      "source": [
        "# Count null values per column\n",
        "null_counts = df.isnull().sum()\n",
        "\n",
        "# Show only columns with null values\n",
        "print(null_counts[null_counts > 0])"
      ]
    },
    {
      "cell_type": "code",
      "execution_count": 11,
      "metadata": {
        "id": "YfDOSkUTdJrA"
      },
      "outputs": [],
      "source": [
        "cols = ['contentDuration', 'viewCount', 'topicCategories']\n",
        "for col in cols:\n",
        "    df = df.dropna(subset=[col])\n",
        "\n",
        "# List of columns to fill with 0\n",
        "num_cols = ['commentCount', 'likeCount', 'favouriteCount']\n",
        "\n",
        "# Replace NaN with 0\n",
        "df[num_cols] = df[num_cols].fillna(0)\n"
      ]
    },
    {
      "cell_type": "code",
      "execution_count": 12,
      "metadata": {
        "colab": {
          "base_uri": "https://localhost:8080/"
        },
        "collapsed": true,
        "id": "P8kj1yk9g-ed",
        "outputId": "0598f2bb-18a6-4649-dc3f-b5b995483bf4"
      },
      "outputs": [
        {
          "name": "stdout",
          "output_type": "stream",
          "text": [
            "[\"['https://en.wikipedia.org/wiki/Health', 'https://en.wikipedia.org/wiki/Lifestyle_(sociology)']\"\n",
            " \"['https://en.wikipedia.org/wiki/Lifestyle_(sociology)', 'https://en.wikipedia.org/wiki/Physical_attractiveness']\"\n",
            " \"['https://en.wikipedia.org/wiki/Health', 'https://en.wikipedia.org/wiki/Lifestyle_(sociology)', 'https://en.wikipedia.org/wiki/Physical_attractiveness']\"\n",
            " \"['https://en.wikipedia.org/wiki/Lifestyle_(sociology)']\"\n",
            " \"['https://en.wikipedia.org/wiki/Entertainment', 'https://en.wikipedia.org/wiki/Physical_attractiveness']\"\n",
            " \"['https://en.wikipedia.org/wiki/Hobby', 'https://en.wikipedia.org/wiki/Lifestyle_(sociology)', 'https://en.wikipedia.org/wiki/Physical_attractiveness']\"\n",
            " \"['https://en.wikipedia.org/wiki/Fashion', 'https://en.wikipedia.org/wiki/Lifestyle_(sociology)', 'https://en.wikipedia.org/wiki/Physical_attractiveness']\"\n",
            " \"['https://en.wikipedia.org/wiki/Fashion', 'https://en.wikipedia.org/wiki/Physical_attractiveness']\"\n",
            " \"['https://en.wikipedia.org/wiki/Lifestyle_(sociology)', 'https://en.wikipedia.org/wiki/Technology']\"\n",
            " \"['https://en.wikipedia.org/wiki/Physical_attractiveness']\"\n",
            " \"['https://en.wikipedia.org/wiki/Health', 'https://en.wikipedia.org/wiki/Lifestyle_(sociology)', 'https://en.wikipedia.org/wiki/Physical_attractiveness', 'https://en.wikipedia.org/wiki/Physical_fitness']\"\n",
            " \"['https://en.wikipedia.org/wiki/Fashion', 'https://en.wikipedia.org/wiki/Lifestyle_(sociology)']\"\n",
            " \"['https://en.wikipedia.org/wiki/Health', 'https://en.wikipedia.org/wiki/Physical_attractiveness']\"\n",
            " \"['https://en.wikipedia.org/wiki/Lifestyle_(sociology)', 'https://en.wikipedia.org/wiki/Music_of_Asia', 'https://en.wikipedia.org/wiki/Physical_attractiveness']\"\n",
            " \"['https://en.wikipedia.org/wiki/Electronic_music']\"\n",
            " \"['https://en.wikipedia.org/wiki/Hobby', 'https://en.wikipedia.org/wiki/Lifestyle_(sociology)']\"\n",
            " \"['https://en.wikipedia.org/wiki/Fashion', 'https://en.wikipedia.org/wiki/Hobby', 'https://en.wikipedia.org/wiki/Lifestyle_(sociology)', 'https://en.wikipedia.org/wiki/Physical_attractiveness']\"\n",
            " \"['https://en.wikipedia.org/wiki/Music', 'https://en.wikipedia.org/wiki/Physical_attractiveness']\"\n",
            " \"['https://en.wikipedia.org/wiki/Entertainment', 'https://en.wikipedia.org/wiki/Film', 'https://en.wikipedia.org/wiki/Physical_attractiveness']\"\n",
            " \"['https://en.wikipedia.org/wiki/Hobby', 'https://en.wikipedia.org/wiki/Lifestyle_(sociology)', 'https://en.wikipedia.org/wiki/Music_of_Asia', 'https://en.wikipedia.org/wiki/Physical_attractiveness']\"\n",
            " \"['https://en.wikipedia.org/wiki/Physical_attractiveness', 'https://en.wikipedia.org/wiki/Vehicle']\"\n",
            " \"['https://en.wikipedia.org/wiki/Video_game_culture']\"\n",
            " \"['https://en.wikipedia.org/wiki/Fashion', 'https://en.wikipedia.org/wiki/Lifestyle_(sociology)', 'https://en.wikipedia.org/wiki/Music_of_Asia', 'https://en.wikipedia.org/wiki/Physical_attractiveness']\"\n",
            " \"['https://en.wikipedia.org/wiki/Fashion', 'https://en.wikipedia.org/wiki/Hobby', 'https://en.wikipedia.org/wiki/Lifestyle_(sociology)']\"\n",
            " \"['https://en.wikipedia.org/wiki/Lifestyle_(sociology)', 'https://en.wikipedia.org/wiki/Physical_attractiveness', 'https://en.wikipedia.org/wiki/Technology']\"\n",
            " \"['https://en.wikipedia.org/wiki/Hobby', 'https://en.wikipedia.org/wiki/Lifestyle_(sociology)', 'https://en.wikipedia.org/wiki/Physical_attractiveness', 'https://en.wikipedia.org/wiki/Pop_music']\"\n",
            " \"['https://en.wikipedia.org/wiki/Music', 'https://en.wikipedia.org/wiki/Physical_attractiveness', 'https://en.wikipedia.org/wiki/Pop_music']\"\n",
            " \"['https://en.wikipedia.org/wiki/Health']\"\n",
            " \"['https://en.wikipedia.org/wiki/Health', 'https://en.wikipedia.org/wiki/Hobby', 'https://en.wikipedia.org/wiki/Lifestyle_(sociology)', 'https://en.wikipedia.org/wiki/Physical_attractiveness']\"\n",
            " \"['https://en.wikipedia.org/wiki/Health', 'https://en.wikipedia.org/wiki/Knowledge', 'https://en.wikipedia.org/wiki/Physical_attractiveness']\"\n",
            " \"['https://en.wikipedia.org/wiki/Television_program']\"\n",
            " \"['https://en.wikipedia.org/wiki/Country_music', 'https://en.wikipedia.org/wiki/Music', 'https://en.wikipedia.org/wiki/Physical_attractiveness']\"\n",
            " \"['https://en.wikipedia.org/wiki/Business']\"\n",
            " \"['https://en.wikipedia.org/wiki/Entertainment', 'https://en.wikipedia.org/wiki/Physical_attractiveness', 'https://en.wikipedia.org/wiki/Pop_music']\"\n",
            " \"['https://en.wikipedia.org/wiki/Lifestyle_(sociology)', 'https://en.wikipedia.org/wiki/Music_of_Asia']\"\n",
            " \"['https://en.wikipedia.org/wiki/Health', 'https://en.wikipedia.org/wiki/Physical_attractiveness', 'https://en.wikipedia.org/wiki/Television_program']\"\n",
            " \"['https://en.wikipedia.org/wiki/Health', 'https://en.wikipedia.org/wiki/Lifestyle_(sociology)', 'https://en.wikipedia.org/wiki/Physical_fitness']\"\n",
            " \"['https://en.wikipedia.org/wiki/Lifestyle_(sociology)', 'https://en.wikipedia.org/wiki/Physical_attractiveness', 'https://en.wikipedia.org/wiki/Physical_fitness']\"\n",
            " \"['https://en.wikipedia.org/wiki/Lifestyle_(sociology)', 'https://en.wikipedia.org/wiki/Physical_attractiveness', 'https://en.wikipedia.org/wiki/Television_program']\"\n",
            " \"['https://en.wikipedia.org/wiki/Lifestyle_(sociology)', 'https://en.wikipedia.org/wiki/Physical_attractiveness', 'https://en.wikipedia.org/wiki/Pop_music']\"\n",
            " \"['https://en.wikipedia.org/wiki/Humour', 'https://en.wikipedia.org/wiki/Physical_attractiveness']\"\n",
            " \"['https://en.wikipedia.org/wiki/Hobby', 'https://en.wikipedia.org/wiki/Lifestyle_(sociology)', 'https://en.wikipedia.org/wiki/Physical_attractiveness', 'https://en.wikipedia.org/wiki/Vehicle']\"\n",
            " \"['https://en.wikipedia.org/wiki/Entertainment', 'https://en.wikipedia.org/wiki/Health', 'https://en.wikipedia.org/wiki/Physical_attractiveness']\"\n",
            " \"['https://en.wikipedia.org/wiki/Business', 'https://en.wikipedia.org/wiki/Lifestyle_(sociology)', 'https://en.wikipedia.org/wiki/Physical_attractiveness']\"\n",
            " \"['https://en.wikipedia.org/wiki/Lifestyle_(sociology)', 'https://en.wikipedia.org/wiki/Television_program']\"\n",
            " \"['https://en.wikipedia.org/wiki/Entertainment', 'https://en.wikipedia.org/wiki/Film']\"\n",
            " \"['https://en.wikipedia.org/wiki/Entertainment', 'https://en.wikipedia.org/wiki/Film', 'https://en.wikipedia.org/wiki/Humour', 'https://en.wikipedia.org/wiki/Television_program']\"\n",
            " \"['https://en.wikipedia.org/wiki/Entertainment', 'https://en.wikipedia.org/wiki/Health']\"\n",
            " \"['https://en.wikipedia.org/wiki/Business', 'https://en.wikipedia.org/wiki/Lifestyle_(sociology)']\"\n",
            " \"['https://en.wikipedia.org/wiki/Entertainment', 'https://en.wikipedia.org/wiki/Performing_arts', 'https://en.wikipedia.org/wiki/Pop_music']\"\n",
            " \"['https://en.wikipedia.org/wiki/Food', 'https://en.wikipedia.org/wiki/Lifestyle_(sociology)']\"\n",
            " \"['https://en.wikipedia.org/wiki/Entertainment', 'https://en.wikipedia.org/wiki/Music_of_Asia', 'https://en.wikipedia.org/wiki/Physical_attractiveness']\"\n",
            " \"['https://en.wikipedia.org/wiki/Hip_hop_music', 'https://en.wikipedia.org/wiki/Lifestyle_(sociology)', 'https://en.wikipedia.org/wiki/Physical_attractiveness', 'https://en.wikipedia.org/wiki/Pop_music']\"\n",
            " \"['https://en.wikipedia.org/wiki/Society']\"\n",
            " \"['https://en.wikipedia.org/wiki/Music_of_Asia', 'https://en.wikipedia.org/wiki/Physical_attractiveness']\"\n",
            " \"['https://en.wikipedia.org/wiki/Lifestyle_(sociology)', 'https://en.wikipedia.org/wiki/Physical_attractiveness', 'https://en.wikipedia.org/wiki/Pop_music', 'https://en.wikipedia.org/wiki/Rhythm_and_blues', 'https://en.wikipedia.org/wiki/Soul_music']\"\n",
            " \"['https://en.wikipedia.org/wiki/Action-adventure_game', 'https://en.wikipedia.org/wiki/Role-playing_video_game', 'https://en.wikipedia.org/wiki/Strategy_video_game', 'https://en.wikipedia.org/wiki/Video_game_culture']\"\n",
            " \"['https://en.wikipedia.org/wiki/Action_game', 'https://en.wikipedia.org/wiki/Role-playing_video_game', 'https://en.wikipedia.org/wiki/Strategy_video_game', 'https://en.wikipedia.org/wiki/Video_game_culture']\"\n",
            " \"['https://en.wikipedia.org/wiki/Lifestyle_(sociology)', 'https://en.wikipedia.org/wiki/Pet']\"\n",
            " \"['https://en.wikipedia.org/wiki/Lifestyle_(sociology)', 'https://en.wikipedia.org/wiki/Physical_attractiveness', 'https://en.wikipedia.org/wiki/Tourism']\"\n",
            " \"['https://en.wikipedia.org/wiki/Action-adventure_game', 'https://en.wikipedia.org/wiki/Action_game', 'https://en.wikipedia.org/wiki/Role-playing_video_game', 'https://en.wikipedia.org/wiki/Strategy_video_game', 'https://en.wikipedia.org/wiki/Video_game_culture']\"\n",
            " \"['https://en.wikipedia.org/wiki/Basketball', 'https://en.wikipedia.org/wiki/Sport']\"\n",
            " \"['https://en.wikipedia.org/wiki/Physical_attractiveness', 'https://en.wikipedia.org/wiki/Technology']\"\n",
            " \"['https://en.wikipedia.org/wiki/Lifestyle_(sociology)', 'https://en.wikipedia.org/wiki/Music_of_Asia', 'https://en.wikipedia.org/wiki/Physical_attractiveness', 'https://en.wikipedia.org/wiki/Pop_music']\"\n",
            " \"['https://en.wikipedia.org/wiki/Physical_attractiveness', 'https://en.wikipedia.org/wiki/Pop_music']\"\n",
            " \"['https://en.wikipedia.org/wiki/Religion']\"\n",
            " \"['https://en.wikipedia.org/wiki/Fashion', 'https://en.wikipedia.org/wiki/Lifestyle_(sociology)', 'https://en.wikipedia.org/wiki/Physical_attractiveness', 'https://en.wikipedia.org/wiki/Physical_fitness']\"\n",
            " \"['https://en.wikipedia.org/wiki/Hip_hop_music', 'https://en.wikipedia.org/wiki/Lifestyle_(sociology)']\"\n",
            " \"['https://en.wikipedia.org/wiki/Lifestyle_(sociology)', 'https://en.wikipedia.org/wiki/Pop_music']\"\n",
            " \"['https://en.wikipedia.org/wiki/Entertainment']\"\n",
            " \"['https://en.wikipedia.org/wiki/Technology']\"\n",
            " \"['https://en.wikipedia.org/wiki/Knowledge']\"\n",
            " \"['https://en.wikipedia.org/wiki/Entertainment', 'https://en.wikipedia.org/wiki/Physical_attractiveness', 'https://en.wikipedia.org/wiki/Television_program']\"\n",
            " \"['https://en.wikipedia.org/wiki/Action-adventure_game', 'https://en.wikipedia.org/wiki/Action_game', 'https://en.wikipedia.org/wiki/Casual_game', 'https://en.wikipedia.org/wiki/Strategy_video_game', 'https://en.wikipedia.org/wiki/Video_game_culture']\"\n",
            " \"['https://en.wikipedia.org/wiki/Humour', 'https://en.wikipedia.org/wiki/Lifestyle_(sociology)', 'https://en.wikipedia.org/wiki/Physical_attractiveness']\"\n",
            " \"['https://en.wikipedia.org/wiki/Lifestyle_(sociology)', 'https://en.wikipedia.org/wiki/Music_of_Asia', 'https://en.wikipedia.org/wiki/Music_of_Latin_America', 'https://en.wikipedia.org/wiki/Physical_attractiveness', 'https://en.wikipedia.org/wiki/Pop_music']\"\n",
            " \"['https://en.wikipedia.org/wiki/Fashion', 'https://en.wikipedia.org/wiki/Hobby', 'https://en.wikipedia.org/wiki/Lifestyle_(sociology)', 'https://en.wikipedia.org/wiki/Music_of_Asia', 'https://en.wikipedia.org/wiki/Physical_attractiveness']\"\n",
            " \"['https://en.wikipedia.org/wiki/Health', 'https://en.wikipedia.org/wiki/Physical_attractiveness', 'https://en.wikipedia.org/wiki/Society']\"\n",
            " \"['https://en.wikipedia.org/wiki/Music', 'https://en.wikipedia.org/wiki/Music_of_Asia', 'https://en.wikipedia.org/wiki/Physical_attractiveness', 'https://en.wikipedia.org/wiki/Pop_music']\"\n",
            " \"['https://en.wikipedia.org/wiki/Entertainment', 'https://en.wikipedia.org/wiki/Fashion', 'https://en.wikipedia.org/wiki/Physical_attractiveness']\"\n",
            " \"['https://en.wikipedia.org/wiki/Health', 'https://en.wikipedia.org/wiki/Hobby', 'https://en.wikipedia.org/wiki/Lifestyle_(sociology)', 'https://en.wikipedia.org/wiki/Music_of_Asia']\"\n",
            " \"['https://en.wikipedia.org/wiki/Hobby', 'https://en.wikipedia.org/wiki/Lifestyle_(sociology)', 'https://en.wikipedia.org/wiki/Music_of_Asia', 'https://en.wikipedia.org/wiki/Physical_attractiveness', 'https://en.wikipedia.org/wiki/Pop_music']\"\n",
            " \"['https://en.wikipedia.org/wiki/Hip_hop_music', 'https://en.wikipedia.org/wiki/Lifestyle_(sociology)', 'https://en.wikipedia.org/wiki/Physical_attractiveness']\"\n",
            " \"['https://en.wikipedia.org/wiki/Fashion', 'https://en.wikipedia.org/wiki/Lifestyle_(sociology)', 'https://en.wikipedia.org/wiki/Music_of_Asia']\"\n",
            " \"['https://en.wikipedia.org/wiki/Physical_attractiveness', 'https://en.wikipedia.org/wiki/Politics', 'https://en.wikipedia.org/wiki/Society']\"\n",
            " \"['https://en.wikipedia.org/wiki/Entertainment', 'https://en.wikipedia.org/wiki/Performing_arts', 'https://en.wikipedia.org/wiki/Physical_attractiveness']\"\n",
            " \"['https://en.wikipedia.org/wiki/Entertainment', 'https://en.wikipedia.org/wiki/Music_of_Asia', 'https://en.wikipedia.org/wiki/Performing_arts', 'https://en.wikipedia.org/wiki/Physical_attractiveness', 'https://en.wikipedia.org/wiki/Pop_music']\"\n",
            " \"['https://en.wikipedia.org/wiki/Fashion']\"\n",
            " \"['https://en.wikipedia.org/wiki/Entertainment', 'https://en.wikipedia.org/wiki/Music_of_Asia', 'https://en.wikipedia.org/wiki/Performing_arts']\"\n",
            " \"['https://en.wikipedia.org/wiki/Tourism']\"\n",
            " \"['https://en.wikipedia.org/wiki/Physical_attractiveness', 'https://en.wikipedia.org/wiki/Society']\"\n",
            " \"['https://en.wikipedia.org/wiki/Military', 'https://en.wikipedia.org/wiki/Society']\"\n",
            " \"['https://en.wikipedia.org/wiki/Film', 'https://en.wikipedia.org/wiki/Lifestyle_(sociology)', 'https://en.wikipedia.org/wiki/Physical_attractiveness']\"\n",
            " \"['https://en.wikipedia.org/wiki/Health', 'https://en.wikipedia.org/wiki/Physical_attractiveness', 'https://en.wikipedia.org/wiki/Physical_fitness']\"\n",
            " \"['https://en.wikipedia.org/wiki/Electronic_music', 'https://en.wikipedia.org/wiki/Music', 'https://en.wikipedia.org/wiki/Pop_music']\"\n",
            " \"['https://en.wikipedia.org/wiki/Health', 'https://en.wikipedia.org/wiki/Physical_attractiveness', 'https://en.wikipedia.org/wiki/Society', 'https://en.wikipedia.org/wiki/Television_program']\"\n",
            " \"['https://en.wikipedia.org/wiki/Action-adventure_game', 'https://en.wikipedia.org/wiki/Video_game_culture']\"\n",
            " \"['https://en.wikipedia.org/wiki/Health', 'https://en.wikipedia.org/wiki/Music', 'https://en.wikipedia.org/wiki/Physical_attractiveness']\"\n",
            " \"['https://en.wikipedia.org/wiki/Entertainment', 'https://en.wikipedia.org/wiki/Pop_music']\"\n",
            " \"['https://en.wikipedia.org/wiki/Music', 'https://en.wikipedia.org/wiki/Music_of_Asia', 'https://en.wikipedia.org/wiki/Physical_attractiveness']\"\n",
            " \"['https://en.wikipedia.org/wiki/Knowledge', 'https://en.wikipedia.org/wiki/Physical_attractiveness']\"\n",
            " \"['https://en.wikipedia.org/wiki/Entertainment', 'https://en.wikipedia.org/wiki/Film', 'https://en.wikipedia.org/wiki/Humour']\"\n",
            " \"['https://en.wikipedia.org/wiki/Religion', 'https://en.wikipedia.org/wiki/Society']\"\n",
            " \"['https://en.wikipedia.org/wiki/Hobby', 'https://en.wikipedia.org/wiki/Lifestyle_(sociology)', 'https://en.wikipedia.org/wiki/Music_of_Asia']\"\n",
            " \"['https://en.wikipedia.org/wiki/Hobby', 'https://en.wikipedia.org/wiki/Lifestyle_(sociology)', 'https://en.wikipedia.org/wiki/Vehicle']\"\n",
            " \"['https://en.wikipedia.org/wiki/Entertainment', 'https://en.wikipedia.org/wiki/Music_of_Asia', 'https://en.wikipedia.org/wiki/Performing_arts', 'https://en.wikipedia.org/wiki/Physical_attractiveness']\"\n",
            " \"['https://en.wikipedia.org/wiki/Physical_attractiveness', 'https://en.wikipedia.org/wiki/Physical_fitness']\"\n",
            " \"['https://en.wikipedia.org/wiki/Entertainment', 'https://en.wikipedia.org/wiki/Fashion', 'https://en.wikipedia.org/wiki/Performing_arts', 'https://en.wikipedia.org/wiki/Physical_attractiveness']\"\n",
            " \"['https://en.wikipedia.org/wiki/Politics', 'https://en.wikipedia.org/wiki/Society']\"\n",
            " \"['https://en.wikipedia.org/wiki/Hobby', 'https://en.wikipedia.org/wiki/Lifestyle_(sociology)', 'https://en.wikipedia.org/wiki/Pop_music']\"\n",
            " \"['https://en.wikipedia.org/wiki/Action-adventure_game', 'https://en.wikipedia.org/wiki/Action_game', 'https://en.wikipedia.org/wiki/Role-playing_video_game', 'https://en.wikipedia.org/wiki/Video_game_culture']\"\n",
            " \"['https://en.wikipedia.org/wiki/Mixed_martial_arts', 'https://en.wikipedia.org/wiki/Sport']\"\n",
            " \"['https://en.wikipedia.org/wiki/Health', 'https://en.wikipedia.org/wiki/Lifestyle_(sociology)', 'https://en.wikipedia.org/wiki/Music_of_Asia', 'https://en.wikipedia.org/wiki/Physical_attractiveness']\"\n",
            " \"['https://en.wikipedia.org/wiki/Action_game', 'https://en.wikipedia.org/wiki/Video_game_culture']\"\n",
            " \"['https://en.wikipedia.org/wiki/Lifestyle_(sociology)', 'https://en.wikipedia.org/wiki/Physical_fitness']\"\n",
            " \"['https://en.wikipedia.org/wiki/Vehicle']\"\n",
            " \"['https://en.wikipedia.org/wiki/Lifestyle_(sociology)', 'https://en.wikipedia.org/wiki/Pet', 'https://en.wikipedia.org/wiki/Physical_attractiveness']\"\n",
            " \"['https://en.wikipedia.org/wiki/Entertainment', 'https://en.wikipedia.org/wiki/Hip_hop_music', 'https://en.wikipedia.org/wiki/Performing_arts', 'https://en.wikipedia.org/wiki/Physical_attractiveness']\"\n",
            " \"['https://en.wikipedia.org/wiki/Entertainment', 'https://en.wikipedia.org/wiki/Hip_hop_music', 'https://en.wikipedia.org/wiki/Physical_attractiveness']\"\n",
            " \"['https://en.wikipedia.org/wiki/Hip_hop_music', 'https://en.wikipedia.org/wiki/Lifestyle_(sociology)', 'https://en.wikipedia.org/wiki/Music_of_Asia', 'https://en.wikipedia.org/wiki/Physical_attractiveness']\"\n",
            " \"['https://en.wikipedia.org/wiki/Physical_attractiveness', 'https://en.wikipedia.org/wiki/Religion']\"\n",
            " \"['https://en.wikipedia.org/wiki/Sports_game', 'https://en.wikipedia.org/wiki/Video_game_culture']\"\n",
            " \"['https://en.wikipedia.org/wiki/Electronic_music', 'https://en.wikipedia.org/wiki/Lifestyle_(sociology)', 'https://en.wikipedia.org/wiki/Physical_attractiveness']\"\n",
            " \"['https://en.wikipedia.org/wiki/Hobby', 'https://en.wikipedia.org/wiki/Lifestyle_(sociology)', 'https://en.wikipedia.org/wiki/Physical_attractiveness', 'https://en.wikipedia.org/wiki/Physical_fitness']\"\n",
            " \"['https://en.wikipedia.org/wiki/Entertainment', 'https://en.wikipedia.org/wiki/Health', 'https://en.wikipedia.org/wiki/Humour', 'https://en.wikipedia.org/wiki/Physical_attractiveness']\"\n",
            " \"['https://en.wikipedia.org/wiki/Music', 'https://en.wikipedia.org/wiki/Music_of_Asia']\"\n",
            " \"['https://en.wikipedia.org/wiki/Physical_attractiveness', 'https://en.wikipedia.org/wiki/Video_game_culture']\"\n",
            " \"['https://en.wikipedia.org/wiki/Entertainment', 'https://en.wikipedia.org/wiki/Film', 'https://en.wikipedia.org/wiki/Television_program']\"\n",
            " \"['https://en.wikipedia.org/wiki/Music']\"\n",
            " \"['https://en.wikipedia.org/wiki/Film', 'https://en.wikipedia.org/wiki/Humour', 'https://en.wikipedia.org/wiki/Music']\"\n",
            " \"['https://en.wikipedia.org/wiki/Entertainment', 'https://en.wikipedia.org/wiki/Humour', 'https://en.wikipedia.org/wiki/Physical_attractiveness']\"\n",
            " \"['https://en.wikipedia.org/wiki/Action-adventure_game', 'https://en.wikipedia.org/wiki/Action_game', 'https://en.wikipedia.org/wiki/Video_game_culture']\"\n",
            " \"['https://en.wikipedia.org/wiki/Lifestyle_(sociology)', 'https://en.wikipedia.org/wiki/Physical_attractiveness', 'https://en.wikipedia.org/wiki/Tennis']\"\n",
            " \"['https://en.wikipedia.org/wiki/Hobby', 'https://en.wikipedia.org/wiki/Lifestyle_(sociology)', 'https://en.wikipedia.org/wiki/Technology']\"\n",
            " \"['https://en.wikipedia.org/wiki/Jazz', 'https://en.wikipedia.org/wiki/Music', 'https://en.wikipedia.org/wiki/Music_of_Asia']\"\n",
            " \"['https://en.wikipedia.org/wiki/Fashion', 'https://en.wikipedia.org/wiki/Health', 'https://en.wikipedia.org/wiki/Lifestyle_(sociology)', 'https://en.wikipedia.org/wiki/Physical_attractiveness']\"\n",
            " \"['https://en.wikipedia.org/wiki/Health', 'https://en.wikipedia.org/wiki/Society']\"\n",
            " \"['https://en.wikipedia.org/wiki/Health', 'https://en.wikipedia.org/wiki/Lifestyle_(sociology)', 'https://en.wikipedia.org/wiki/Music_of_Asia']\"\n",
            " \"['https://en.wikipedia.org/wiki/Humour', 'https://en.wikipedia.org/wiki/Knowledge', 'https://en.wikipedia.org/wiki/Physical_attractiveness']\"\n",
            " \"['https://en.wikipedia.org/wiki/Hobby', 'https://en.wikipedia.org/wiki/Humour', 'https://en.wikipedia.org/wiki/Lifestyle_(sociology)', 'https://en.wikipedia.org/wiki/Physical_attractiveness']\"\n",
            " \"['https://en.wikipedia.org/wiki/Health', 'https://en.wikipedia.org/wiki/Physical_fitness']\"\n",
            " \"['https://en.wikipedia.org/wiki/Health', 'https://en.wikipedia.org/wiki/Hobby', 'https://en.wikipedia.org/wiki/Lifestyle_(sociology)', 'https://en.wikipedia.org/wiki/Physical_attractiveness', 'https://en.wikipedia.org/wiki/Physical_fitness']\"\n",
            " \"['https://en.wikipedia.org/wiki/Physical_attractiveness', 'https://en.wikipedia.org/wiki/Sport']\"\n",
            " \"['https://en.wikipedia.org/wiki/Hobby', 'https://en.wikipedia.org/wiki/Lifestyle_(sociology)', 'https://en.wikipedia.org/wiki/Performing_arts', 'https://en.wikipedia.org/wiki/Physical_attractiveness']\"\n",
            " \"['https://en.wikipedia.org/wiki/Health', 'https://en.wikipedia.org/wiki/Lifestyle_(sociology)', 'https://en.wikipedia.org/wiki/Physical_attractiveness', 'https://en.wikipedia.org/wiki/Television_program']\"\n",
            " \"['https://en.wikipedia.org/wiki/Music_of_Asia', 'https://en.wikipedia.org/wiki/Physical_attractiveness', 'https://en.wikipedia.org/wiki/Pop_music']\"\n",
            " \"['https://en.wikipedia.org/wiki/Physical_attractiveness', 'https://en.wikipedia.org/wiki/Politics', 'https://en.wikipedia.org/wiki/Society', 'https://en.wikipedia.org/wiki/Television_program']\"\n",
            " \"['https://en.wikipedia.org/wiki/Strategy_video_game', 'https://en.wikipedia.org/wiki/Video_game_culture']\"\n",
            " \"['https://en.wikipedia.org/wiki/Fashion', 'https://en.wikipedia.org/wiki/Lifestyle_(sociology)', 'https://en.wikipedia.org/wiki/Music_of_Asia', 'https://en.wikipedia.org/wiki/Physical_attractiveness', 'https://en.wikipedia.org/wiki/Pop_music']\"\n",
            " \"['https://en.wikipedia.org/wiki/Electronic_music', 'https://en.wikipedia.org/wiki/Music', 'https://en.wikipedia.org/wiki/Physical_attractiveness']\"\n",
            " \"['https://en.wikipedia.org/wiki/Fashion', 'https://en.wikipedia.org/wiki/Hobby', 'https://en.wikipedia.org/wiki/Lifestyle_(sociology)', 'https://en.wikipedia.org/wiki/Physical_attractiveness', 'https://en.wikipedia.org/wiki/Pop_music']\"\n",
            " \"['https://en.wikipedia.org/wiki/Fashion', 'https://en.wikipedia.org/wiki/Lifestyle_(sociology)', 'https://en.wikipedia.org/wiki/Physical_attractiveness', 'https://en.wikipedia.org/wiki/Pop_music']\"\n",
            " \"['https://en.wikipedia.org/wiki/Health', 'https://en.wikipedia.org/wiki/Hobby', 'https://en.wikipedia.org/wiki/Lifestyle_(sociology)', 'https://en.wikipedia.org/wiki/Music_of_Asia', 'https://en.wikipedia.org/wiki/Physical_attractiveness', 'https://en.wikipedia.org/wiki/Physical_fitness']\"\n",
            " \"['https://en.wikipedia.org/wiki/Fashion', 'https://en.wikipedia.org/wiki/Health', 'https://en.wikipedia.org/wiki/Lifestyle_(sociology)', 'https://en.wikipedia.org/wiki/Physical_attractiveness', 'https://en.wikipedia.org/wiki/Physical_fitness']\"\n",
            " \"['https://en.wikipedia.org/wiki/Electronic_music', 'https://en.wikipedia.org/wiki/Lifestyle_(sociology)', 'https://en.wikipedia.org/wiki/Pop_music']\"\n",
            " \"['https://en.wikipedia.org/wiki/Food', 'https://en.wikipedia.org/wiki/Hobby', 'https://en.wikipedia.org/wiki/Lifestyle_(sociology)']\"\n",
            " \"['https://en.wikipedia.org/wiki/Entertainment', 'https://en.wikipedia.org/wiki/Performing_arts']\"\n",
            " \"['https://en.wikipedia.org/wiki/Entertainment', 'https://en.wikipedia.org/wiki/Music_of_Asia']\"\n",
            " \"['https://en.wikipedia.org/wiki/Hobby', 'https://en.wikipedia.org/wiki/Lifestyle_(sociology)', 'https://en.wikipedia.org/wiki/Physical_attractiveness', 'https://en.wikipedia.org/wiki/Television_program']\"\n",
            " \"['https://en.wikipedia.org/wiki/Music', 'https://en.wikipedia.org/wiki/Music_of_Asia', 'https://en.wikipedia.org/wiki/Pop_music']\"\n",
            " \"['https://en.wikipedia.org/wiki/Humour', 'https://en.wikipedia.org/wiki/Lifestyle_(sociology)']\"\n",
            " \"['https://en.wikipedia.org/wiki/Hip_hop_music', 'https://en.wikipedia.org/wiki/Physical_attractiveness', 'https://en.wikipedia.org/wiki/Pop_music']\"\n",
            " \"['https://en.wikipedia.org/wiki/Entertainment', 'https://en.wikipedia.org/wiki/Pet']\"\n",
            " \"['https://en.wikipedia.org/wiki/Music', 'https://en.wikipedia.org/wiki/Music_of_Asia', 'https://en.wikipedia.org/wiki/Performing_arts', 'https://en.wikipedia.org/wiki/Physical_attractiveness']\"\n",
            " \"['https://en.wikipedia.org/wiki/Role-playing_video_game', 'https://en.wikipedia.org/wiki/Strategy_video_game', 'https://en.wikipedia.org/wiki/Video_game_culture']\"\n",
            " \"['https://en.wikipedia.org/wiki/Entertainment', 'https://en.wikipedia.org/wiki/Performing_arts', 'https://en.wikipedia.org/wiki/Physical_attractiveness', 'https://en.wikipedia.org/wiki/Pop_music']\"\n",
            " \"['https://en.wikipedia.org/wiki/Lifestyle_(sociology)', 'https://en.wikipedia.org/wiki/Music_of_Asia', 'https://en.wikipedia.org/wiki/Pop_music']\"\n",
            " \"['https://en.wikipedia.org/wiki/Lifestyle_(sociology)', 'https://en.wikipedia.org/wiki/Physical_attractiveness', 'https://en.wikipedia.org/wiki/Religion']\"\n",
            " \"['https://en.wikipedia.org/wiki/Fashion', 'https://en.wikipedia.org/wiki/Hobby', 'https://en.wikipedia.org/wiki/Lifestyle_(sociology)', 'https://en.wikipedia.org/wiki/Physical_attractiveness', 'https://en.wikipedia.org/wiki/Television_program']\"\n",
            " \"['https://en.wikipedia.org/wiki/Electronic_music', 'https://en.wikipedia.org/wiki/Music_of_Asia', 'https://en.wikipedia.org/wiki/Physical_attractiveness', 'https://en.wikipedia.org/wiki/Pop_music']\"\n",
            " \"['https://en.wikipedia.org/wiki/Health', 'https://en.wikipedia.org/wiki/Humour', 'https://en.wikipedia.org/wiki/Physical_attractiveness']\"\n",
            " \"['https://en.wikipedia.org/wiki/Lifestyle_(sociology)', 'https://en.wikipedia.org/wiki/Music_of_Latin_America', 'https://en.wikipedia.org/wiki/Physical_attractiveness', 'https://en.wikipedia.org/wiki/Pop_music']\"\n",
            " \"['https://en.wikipedia.org/wiki/Fashion', 'https://en.wikipedia.org/wiki/Physical_attractiveness', 'https://en.wikipedia.org/wiki/Pop_music']\"\n",
            " \"['https://en.wikipedia.org/wiki/Entertainment', 'https://en.wikipedia.org/wiki/Humour']\"\n",
            " \"['https://en.wikipedia.org/wiki/Hobby', 'https://en.wikipedia.org/wiki/Lifestyle_(sociology)', 'https://en.wikipedia.org/wiki/Music_of_Asia', 'https://en.wikipedia.org/wiki/Performing_arts', 'https://en.wikipedia.org/wiki/Physical_attractiveness']\"\n",
            " \"['https://en.wikipedia.org/wiki/Cricket', 'https://en.wikipedia.org/wiki/Lifestyle_(sociology)', 'https://en.wikipedia.org/wiki/Physical_attractiveness']\"\n",
            " \"['https://en.wikipedia.org/wiki/Action-adventure_game', 'https://en.wikipedia.org/wiki/Action_game', 'https://en.wikipedia.org/wiki/Casual_game', 'https://en.wikipedia.org/wiki/Puzzle_video_game', 'https://en.wikipedia.org/wiki/Role-playing_video_game', 'https://en.wikipedia.org/wiki/Strategy_video_game', 'https://en.wikipedia.org/wiki/Video_game_culture']\"\n",
            " \"['https://en.wikipedia.org/wiki/Film']\"\n",
            " \"['https://en.wikipedia.org/wiki/Entertainment', 'https://en.wikipedia.org/wiki/Physical_attractiveness', 'https://en.wikipedia.org/wiki/Physical_fitness']\"\n",
            " \"['https://en.wikipedia.org/wiki/Health', 'https://en.wikipedia.org/wiki/Physical_attractiveness', 'https://en.wikipedia.org/wiki/Physical_fitness', 'https://en.wikipedia.org/wiki/Society']\"\n",
            " \"['https://en.wikipedia.org/wiki/Hip_hop_music', 'https://en.wikipedia.org/wiki/Music', 'https://en.wikipedia.org/wiki/Physical_attractiveness']\"\n",
            " \"['https://en.wikipedia.org/wiki/Entertainment', 'https://en.wikipedia.org/wiki/Fashion', 'https://en.wikipedia.org/wiki/Music_of_Asia', 'https://en.wikipedia.org/wiki/Physical_attractiveness']\"\n",
            " \"['https://en.wikipedia.org/wiki/Action-adventure_game', 'https://en.wikipedia.org/wiki/Action_game', 'https://en.wikipedia.org/wiki/Puzzle_video_game', 'https://en.wikipedia.org/wiki/Role-playing_video_game', 'https://en.wikipedia.org/wiki/Video_game_culture']\"\n",
            " \"['https://en.wikipedia.org/wiki/Physical_attractiveness', 'https://en.wikipedia.org/wiki/Religion', 'https://en.wikipedia.org/wiki/Society']\"\n",
            " \"['https://en.wikipedia.org/wiki/Electronic_music', 'https://en.wikipedia.org/wiki/Music']\"\n",
            " \"['https://en.wikipedia.org/wiki/Health', 'https://en.wikipedia.org/wiki/Lifestyle_(sociology)', 'https://en.wikipedia.org/wiki/Pet', 'https://en.wikipedia.org/wiki/Physical_attractiveness']\"\n",
            " \"['https://en.wikipedia.org/wiki/Action-adventure_game', 'https://en.wikipedia.org/wiki/Casual_game', 'https://en.wikipedia.org/wiki/Video_game_culture']\"]\n"
          ]
        }
      ],
      "source": [
        "# Print all unique values in topicCategories\n",
        "print(df['topicCategories'].unique())"
      ]
    },
    {
      "cell_type": "markdown",
      "metadata": {
        "id": "FNeu2370mFYA"
      },
      "source": [
        "# Data Preprocessing"
      ]
    },
    {
      "cell_type": "code",
      "execution_count": 13,
      "metadata": {
        "colab": {
          "base_uri": "https://localhost:8080/"
        },
        "id": "OS7aY3lihpjI",
        "outputId": "50cc2cb9-ab1c-4775-bf84-0e97ad51f45e"
      },
      "outputs": [
        {
          "name": "stdout",
          "output_type": "stream",
          "text": [
            "Number of unique topics: 45\n",
            "Unique topics: {'Food', 'Jazz', 'Performing_arts', 'Religion', 'Music_of_Latin_America', 'Knowledge', 'Sport', 'Technology', 'Role-playing_video_game', 'Business', 'Military', 'Action-adventure_game', 'Soul_music', 'Entertainment', 'Music_of_Asia', 'Health', 'Hobby', 'Country_music', 'Hip_hop_music', 'Strategy_video_game', 'Film', 'Humour', 'Tennis', 'Physical_fitness', 'Electronic_music', 'Sports_game', 'Lifestyle_(sociology)', 'Video_game_culture', 'Vehicle', 'Puzzle_video_game', 'Television_program', 'Mixed_martial_arts', 'Physical_attractiveness', 'Cricket', 'Pet', 'Basketball', 'Politics', 'Fashion', 'Pop_music', 'Music', 'Action_game', 'Casual_game', 'Tourism', 'Society', 'Rhythm_and_blues'}\n"
          ]
        }
      ],
      "source": [
        "import ast\n",
        "\n",
        "# Convert JSON-like strings into real lists\n",
        "df['topicCategories'] = df['topicCategories'].apply(\n",
        "    lambda x: ast.literal_eval(x) if isinstance(x, str) else x\n",
        ")\n",
        "\n",
        "# Flatten into one list\n",
        "all_topics = [topic for sublist in df['topicCategories'] for topic in sublist]\n",
        "\n",
        "# Extract just the topic name from the URL (last part after '/')\n",
        "topic_names = [topic.split('/')[-1] for topic in all_topics]\n",
        "\n",
        "# Get unique topics\n",
        "unique_topics = set(topic_names)\n",
        "\n",
        "# Print results\n",
        "print(\"Number of unique topics:\", len(unique_topics))\n",
        "print(\"Unique topics:\", unique_topics)"
      ]
    },
    {
      "cell_type": "code",
      "execution_count": 14,
      "metadata": {
        "colab": {
          "base_uri": "https://localhost:8080/"
        },
        "id": "-PiR0OOBixiy",
        "outputId": "5258a8f1-922f-4be8-8d4e-a4bc73f208a9"
      },
      "outputs": [
        {
          "name": "stdout",
          "output_type": "stream",
          "text": [
            "0                          [Health, Lifestyle_(sociology)]\n",
            "1         [Lifestyle_(sociology), Physical_attractiveness]\n",
            "2         [Lifestyle_(sociology), Physical_attractiveness]\n",
            "3         [Lifestyle_(sociology), Physical_attractiveness]\n",
            "4         [Lifestyle_(sociology), Physical_attractiveness]\n",
            "                               ...                        \n",
            "92754    [Fashion, Lifestyle_(sociology), Physical_attr...\n",
            "92755    [Hobby, Lifestyle_(sociology), Physical_attrac...\n",
            "92756    [Health, Lifestyle_(sociology), Physical_attra...\n",
            "92757     [Lifestyle_(sociology), Physical_attractiveness]\n",
            "92758     [Lifestyle_(sociology), Physical_attractiveness]\n",
            "Name: topicNames, Length: 91226, dtype: object\n"
          ]
        }
      ],
      "source": [
        "# Create a new column with only topic names (no links)\n",
        "df['topicNames'] = df['topicCategories'].apply(\n",
        "    lambda lst: [t.split('/')[-1] for t in lst] if isinstance(lst, list) else []\n",
        ")\n",
        "\n",
        "print(df['topicNames'])"
      ]
    },
    {
      "cell_type": "code",
      "execution_count": 15,
      "metadata": {
        "id": "8Axll7-EuAd1"
      },
      "outputs": [],
      "source": [
        "# Combine the 3 no-hashtag columns into 1 column\n",
        "df[\"text\"] = (\n",
        "    df[\"title\"].fillna(\"\") + \" \" +\n",
        "    df[\"tags\"].fillna(\"\") + \" \" +\n",
        "    df[\"description\"].fillna(\"\")\n",
        ")\n",
        "\n",
        "# Optional: clean extra spaces\n",
        "df[\"text\"] = df[\"text\"].str.strip()"
      ]
    },
    {
      "cell_type": "code",
      "execution_count": 16,
      "metadata": {
        "id": "VN5j5aBSfneR"
      },
      "outputs": [],
      "source": [
        "protected_words = {\n",
        "    # Beauty / Skincare\n",
        "    \"makeup\", \"skincare\", \"haircare\", \"hairstyle\", \"hairstyles\",\n",
        "    \"eyeshadow\", \"eyeliner\", \"lipstick\", \"lipgloss\", \"blush\",\n",
        "    \"foundation\", \"concealer\", \"mascara\", \"highlighter\", \"contour\",\n",
        "    \"serum\", \"facial\", \"antiaging\", \"glowup\", \"skintips\",\n",
        "\n",
        "    # Fashion\n",
        "    \"ootd\", \"fashionista\", \"streetwear\", \"vintage\", \"aesthetic\",\n",
        "    \"styletips\", \"styleinspo\", \"luxurybrand\", \"runwaylook\",\n",
        "\n",
        "    # Platforms / Social Media\n",
        "    \"youtube\", \"tiktok\", \"instagram\", \"insta\", \"reels\", \"shorts\",\n",
        "    \"fyp\", \"trending\", \"viralvideo\", 'grwm'\n",
        "\n",
        "    # Lifestyle\n",
        "    \"selfcare\", \"wellness\", \"bodycare\", \"nailart\", \"haircut\",\n",
        "    \"weddinglook\", \"bridalmakeup\", \"partylook\"\n",
        "}\n"
      ]
    },
    {
      "cell_type": "code",
      "execution_count": 17,
      "metadata": {
        "id": "1TyPew8-mAew"
      },
      "outputs": [],
      "source": [
        "# Load wordsegment model once\n",
        "load()\n",
        "\n",
        "def segment_and_extract(text: str):\n",
        "    if pd.isna(text):\n",
        "        return \"\", []\n",
        "\n",
        "    # Step 1: remove URLs\n",
        "    text = re.sub(r\"http\\S+|www\\S+|https\\S+\", \"\", str(text))\n",
        "\n",
        "    # Step 2: insert space before inline hashtags (e.g., \"shop#fun\" → \"shop #fun\")\n",
        "    text = re.sub(r'(?<!\\s)(#)', r' \\1', text)\n",
        "\n",
        "    # Step 3: keep only letters, spaces, and hashtags\n",
        "    text = re.sub(r\"[^a-zA-Z# ]\", \" \", text).lower()\n",
        "\n",
        "    words = text.split()\n",
        "    hashtags = []\n",
        "    normal_words = []\n",
        "\n",
        "    for w in words:\n",
        "        if w.startswith(\"#\"):\n",
        "            hashtags.append(w)   # preserve hashtags\n",
        "        else:\n",
        "            if w in protected_words:\n",
        "                normal_words.append(w)   # keep intact if protected\n",
        "            else:\n",
        "                seg = segment(w)         # otherwise segment\n",
        "                normal_words.extend(seg)\n",
        "\n",
        "    return \" \".join(normal_words), hashtags\n",
        "\n",
        "\n",
        "# --- Apply only to \"text\" column ---\n",
        "df[\"hashtags\"] = \"\"\n",
        "\n",
        "new_normals = []\n",
        "new_hashtags = []\n",
        "\n",
        "for text in df[\"text\"]:\n",
        "    normal, hashtags = segment_and_extract(text)\n",
        "    new_normals.append(normal)\n",
        "    new_hashtags.append(\" \".join(hashtags))  # store hashtags as string\n",
        "\n",
        "# update original text column (segmented, no hashtags)\n",
        "df[\"text\"] = new_normals\n",
        "\n",
        "# fill hashtags column\n",
        "df[\"hashtags\"] = pd.Series(new_hashtags).str.strip()\n"
      ]
    },
    {
      "cell_type": "code",
      "execution_count": 18,
      "metadata": {
        "colab": {
          "base_uri": "https://localhost:8080/"
        },
        "collapsed": true,
        "id": "8CR5TIcP90u5",
        "outputId": "e2c43531-36e1-413f-e646-18e809721a3a"
      },
      "outputs": [
        {
          "name": "stderr",
          "output_type": "stream",
          "text": [
            "[nltk_data] Downloading package stopwords to /root/nltk_data...\n",
            "[nltk_data]   Unzipping corpora/stopwords.zip.\n"
          ]
        }
      ],
      "source": [
        "from nltk.corpus import stopwords\n",
        "import nltk\n",
        "\n",
        "# download stopwords list (only need to run once)\n",
        "nltk.download(\"stopwords\")\n",
        "\n",
        "stop_words = set(stopwords.words(\"english\"))\n",
        "\n",
        "def clean_words(text: str):\n",
        "    if pd.isna(text):\n",
        "        return \"\"\n",
        "\n",
        "    words = text.lower().split()\n",
        "    # keep only alphabetic words, not in stopwords, longer than 2 characters\n",
        "    filtered = [w for w in words if w.isalpha() and w not in stop_words and len(w) > 2]\n",
        "    return \" \".join(filtered)\n",
        "\n",
        "# apply to your text column\n",
        "df[\"clean_text\"] = df[\"text\"].apply(clean_words)\n"
      ]
    },
    {
      "cell_type": "code",
      "execution_count": 19,
      "metadata": {
        "id": "GYF1edc7GIFe"
      },
      "outputs": [],
      "source": [
        "# Load wordsegment once\n",
        "load()\n",
        "\n",
        "def clean_hashtags(text: str) -> str:\n",
        "    if pd.isna(text):\n",
        "        return \"\"\n",
        "\n",
        "    # Remove \"#\" symbols\n",
        "    text = text.replace(\"#\", \" \")\n",
        "\n",
        "    # Normalize spacing\n",
        "    text = re.sub(r\"\\s+\", \" \", text).strip().lower()\n",
        "\n",
        "    words = text.split()\n",
        "    segmented_words = []\n",
        "\n",
        "    for w in words:\n",
        "        if w in protected_words:\n",
        "            # keep intact if in protected list\n",
        "            segmented_words.append(w)\n",
        "        else:\n",
        "            # segment other words normally\n",
        "            seg = segment(w)\n",
        "            segmented_words.extend(seg)\n",
        "\n",
        "    return \" \".join(segmented_words)\n",
        "\n",
        "# Apply to your hashtags column\n",
        "df[\"hashtags_cleaned\"] = df[\"hashtags\"].apply(clean_hashtags)"
      ]
    },
    {
      "cell_type": "code",
      "execution_count": 20,
      "metadata": {
        "id": "-1yhArLjjXoy"
      },
      "outputs": [],
      "source": [
        "df[\"hashtags_cleaned\"] = df[\"hashtags_cleaned\"].apply(clean_words)"
      ]
    },
    {
      "cell_type": "code",
      "execution_count": 21,
      "metadata": {
        "id": "utp4Ntb9gkh2"
      },
      "outputs": [],
      "source": [
        "# Replace empty strings with NaN safely\n",
        "df['hashtags_cleaned'] = df['hashtags_cleaned'].replace(\"\", pd.NA)\n",
        "\n",
        "# Fill NaN values with the corresponding value from 'clean_text'\n",
        "df['hashtags_cleaned'] = df['hashtags_cleaned'].fillna(df['clean_text'])\n"
      ]
    },
    {
      "cell_type": "code",
      "execution_count": 22,
      "metadata": {
        "id": "vJ2pPR3uiyYH"
      },
      "outputs": [],
      "source": [
        "def parse_iso8601_duration(duration: str):\n",
        "    \"\"\"\n",
        "    Convert ISO 8601 duration (e.g., 'PT1H2M10S') to total seconds and HH:MM:SS string.\n",
        "    \"\"\"\n",
        "    if not duration or not isinstance(duration, str):\n",
        "        return 0, \"00:00:00\"\n",
        "\n",
        "    # Regular expression to extract hours, minutes, seconds\n",
        "    pattern = re.compile(r'PT(?:(\\d+)H)?(?:(\\d+)M)?(?:(\\d+)S)?')\n",
        "    match = pattern.match(duration)\n",
        "\n",
        "    if not match:\n",
        "        return 0, \"00:00:00\"\n",
        "\n",
        "    hours = int(match.group(1)) if match.group(1) else 0\n",
        "    minutes = int(match.group(2)) if match.group(2) else 0\n",
        "    seconds = int(match.group(3)) if match.group(3) else 0\n",
        "\n",
        "    total_seconds = hours * 3600 + minutes * 60 + seconds\n",
        "    hh_mm_ss = f\"{hours:02d}:{minutes:02d}:{seconds:02d}\"\n",
        "\n",
        "    return total_seconds, hh_mm_ss\n",
        "\n",
        "# Apply to your DataFrame column\n",
        "df['duration_seconds'], df['duration_hhmmss'] = zip(*df['contentDuration'].apply(parse_iso8601_duration))"
      ]
    },
    {
      "cell_type": "markdown",
      "metadata": {
        "id": "7y-uDp0mmatt"
      },
      "source": [
        "# Save CSV"
      ]
    },
    {
      "cell_type": "code",
      "execution_count": 23,
      "metadata": {
        "id": "n5Xe_3Q8ndsd"
      },
      "outputs": [],
      "source": [
        "cols=['title', 'description', 'tags', 'contentDuration', 'topicCategories','text', 'hashtags', 'clean_text']\n",
        "for col in cols:\n",
        "  df = df.drop(col, axis=1)\n",
        "\n",
        "print(df.columns)"
      ]
    },
    {
      "cell_type": "code",
      "execution_count": 24,
      "metadata": {
        "colab": {
          "base_uri": "https://localhost:8080/"
        },
        "id": "1nEAQOPJIRzc",
        "outputId": "ae626515-194f-4032-988f-328c4fb03966"
      },
      "outputs": [
        {
          "name": "stdout",
          "output_type": "stream",
          "text": [
            "✅ File saved as cleaned_data.csv\n"
          ]
        }
      ],
      "source": [
        "# Save cleaned DataFrame to new CSV file\n",
        "df.to_csv(\"cleaned_data.csv\", index=False)\n",
        "\n",
        "print(\"✅ File saved as cleaned_data.csv\")\n"
      ]
    },
    {
      "cell_type": "markdown",
      "metadata": {
        "id": "z1Ksr8J3lzCg"
      },
      "source": [
        "# Identify Product Types"
      ]
    },
    {
      "cell_type": "code",
      "execution_count": 9,
      "metadata": {
        "id": "x-JMfeYYLzmd"
      },
      "outputs": [],
      "source": [
        "import pandas as pd\n",
        "import numpy as np\n",
        "import ast\n",
        "from sklearn.feature_extraction.text import TfidfVectorizer\n",
        "from sklearn.cluster import MiniBatchKMeans\n",
        "from scipy.sparse import hstack, csr_matrix"
      ]
    },
    {
      "cell_type": "code",
      "execution_count": 10,
      "metadata": {
        "id": "71Ee0BJVly0E"
      },
      "outputs": [],
      "source": [
        "product_type_df = pd.read_csv(\"cleaned_data.csv\")"
      ]
    },
    {
      "cell_type": "code",
      "execution_count": 11,
      "metadata": {
        "colab": {
          "base_uri": "https://localhost:8080/"
        },
        "collapsed": true,
        "id": "ZTOtKW0plydO",
        "outputId": "a3c9212a-69b1-4c90-99c9-0992bfa5cace"
      },
      "outputs": [
        {
          "name": "stdout",
          "output_type": "stream",
          "text": [
            "<class 'pandas.core.frame.DataFrame'>\n",
            "RangeIndex: 91226 entries, 0 to 91225\n",
            "Data columns (total 18 columns):\n",
            " #   Column            Non-Null Count  Dtype  \n",
            "---  ------            --------------  -----  \n",
            " 0   videoId           91226 non-null  int64  \n",
            " 1   publishedAt       91226 non-null  object \n",
            " 2   channelId         91226 non-null  int64  \n",
            " 3   title             91226 non-null  object \n",
            " 4   description       35112 non-null  object \n",
            " 5   tags              20822 non-null  object \n",
            " 6   contentDuration   91226 non-null  object \n",
            " 7   viewCount         91226 non-null  float64\n",
            " 8   likeCount         91226 non-null  float64\n",
            " 9   favouriteCount    91226 non-null  float64\n",
            " 10  commentCount      91226 non-null  float64\n",
            " 11  topicNames        91226 non-null  object \n",
            " 12  text              85204 non-null  object \n",
            " 13  hashtags          69510 non-null  object \n",
            " 14  clean_text        84840 non-null  object \n",
            " 15  hashtags_cleaned  89564 non-null  object \n",
            " 16  duration_seconds  91226 non-null  int64  \n",
            " 17  duration_hhmmss   91226 non-null  object \n",
            "dtypes: float64(4), int64(3), object(11)\n",
            "memory usage: 12.5+ MB\n",
            "None\n"
          ]
        }
      ],
      "source": [
        "print(product_type_df.info())"
      ]
    },
    {
      "cell_type": "code",
      "execution_count": 12,
      "metadata": {
        "colab": {
          "base_uri": "https://localhost:8080/"
        },
        "id": "UxKtk8wQo_la",
        "outputId": "36e8bd49-580d-4672-a59a-f1983ddb2aee"
      },
      "outputs": [
        {
          "name": "stdout",
          "output_type": "stream",
          "text": [
            "Index(['videoId', 'publishedAt', 'channelId', 'title', 'description', 'tags',\n",
            "       'contentDuration', 'viewCount', 'likeCount', 'favouriteCount',\n",
            "       'commentCount', 'topicNames', 'text', 'hashtags', 'clean_text',\n",
            "       'hashtags_cleaned', 'duration_seconds', 'duration_hhmmss'],\n",
            "      dtype='object')\n"
          ]
        }
      ],
      "source": [
        "print(product_type_df.columns)"
      ]
    },
    {
      "cell_type": "code",
      "execution_count": 13,
      "metadata": {
        "colab": {
          "base_uri": "https://localhost:8080/"
        },
        "id": "Uh_ECEjLo4qN",
        "outputId": "09b52216-d40a-4010-9259-e50b459c90ae"
      },
      "outputs": [
        {
          "name": "stdout",
          "output_type": "stream",
          "text": [
            "Index(['videoId', 'channelId', 'title', 'description', 'tags',\n",
            "       'contentDuration', 'topicNames', 'text', 'hashtags', 'clean_text',\n",
            "       'hashtags_cleaned', 'duration_seconds', 'duration_hhmmss'],\n",
            "      dtype='object')\n"
          ]
        }
      ],
      "source": [
        "cols = ['publishedAt', 'viewCount', 'likeCount', 'favouriteCount', 'commentCount']\n",
        "for col in cols:\n",
        "  product_type_df = product_type_df.drop(col, axis=1)\n",
        "\n",
        "print(product_type_df.columns)"
      ]
    },
    {
      "cell_type": "code",
      "execution_count": 14,
      "metadata": {
        "collapsed": true,
        "id": "3y9LMq_cNUWa"
      },
      "outputs": [],
      "source": [
        "# Manual blacklist for very common words\n",
        "blacklist_words = [\"shorts\", \"make\", \"youtube\", \"viral\", \"trending\", \"video\", \"short\",\n",
        "                   \"fyp\", \"reels\", \"viralvideo\",\"channel\", \"instagram\", \"tiktok\",\n",
        "                   'hair', 'makeup', 'beauty', 'skincare', 'skin', 'tutorial', 'look', 'hairstyle', 'transformation', 'tips', 'fashion', 'face']\n",
        "\n",
        "tfidf = TfidfVectorizer(min_df=0.001, stop_words=blacklist_words)\n",
        "hashtag_tfidf = tfidf.fit_transform(product_type_df['hashtags_cleaned'].fillna(\"\"))\n",
        "\n",
        "# --- Build word -> IDF mapping ---\n",
        "idf_scores = np.array(tfidf.idf_)\n",
        "vocab = np.array(tfidf.get_feature_names_out())\n",
        "\n",
        "word_stats = (\n",
        "    pd.DataFrame({\"word\": vocab, \"idf\": idf_scores})\n",
        "    .sort_values(\"idf\", ascending=True)\n",
        "    .reset_index(drop=True)\n",
        ")\n"
      ]
    },
    {
      "cell_type": "code",
      "execution_count": 15,
      "metadata": {
        "colab": {
          "base_uri": "https://localhost:8080/"
        },
        "id": "hJKST6JrfJQU",
        "outputId": "91967695-7b5c-4dbc-bfde-6803654b62f9"
      },
      "outputs": [
        {
          "name": "stdout",
          "output_type": "stream",
          "text": [
            "Requirement already satisfied: gensim in /usr/local/lib/python3.12/dist-packages (4.3.3)\n",
            "Requirement already satisfied: numpy<2.0,>=1.18.5 in /usr/local/lib/python3.12/dist-packages (from gensim) (1.26.4)\n",
            "Requirement already satisfied: scipy<1.14.0,>=1.7.0 in /usr/local/lib/python3.12/dist-packages (from gensim) (1.13.1)\n",
            "Requirement already satisfied: smart-open>=1.8.1 in /usr/local/lib/python3.12/dist-packages (from gensim) (7.3.0.post1)\n",
            "Requirement already satisfied: wrapt in /usr/local/lib/python3.12/dist-packages (from smart-open>=1.8.1->gensim) (1.17.3)\n"
          ]
        }
      ],
      "source": [
        "pip install gensim"
      ]
    },
    {
      "cell_type": "code",
      "execution_count": 16,
      "metadata": {
        "colab": {
          "base_uri": "https://localhost:8080/"
        },
        "id": "YwKgA7ARR3ZF",
        "outputId": "25448f45-7df7-4f8a-b56e-84004828a672"
      },
      "outputs": [
        {
          "name": "stdout",
          "output_type": "stream",
          "text": [
            "[==================================================] 100.0% 128.1/128.1MB downloaded\n"
          ]
        }
      ],
      "source": [
        "import gensim.downloader as api\n",
        "\n",
        "# Load pretrained word vectors\n",
        "word_vectors = api.load(\"glove-wiki-gigaword-100\")  # 100-dimensional embeddings\n"
      ]
    },
    {
      "cell_type": "code",
      "execution_count": 17,
      "metadata": {
        "id": "f5zL4bwqR8oR"
      },
      "outputs": [],
      "source": [
        "def hashtags_to_embedding(text):\n",
        "    words = text.split()\n",
        "    vectors = [word_vectors[w] for w in words if w in word_vectors]\n",
        "    if vectors:\n",
        "        return np.mean(vectors, axis=0)  # average vector\n",
        "    else:\n",
        "        return np.zeros(word_vectors.vector_size)  # if no word is in vocab\n",
        "\n",
        "# Apply to dataframe\n",
        "embedding_features = np.array([hashtags_to_embedding(text) for text in product_type_df['hashtags_cleaned'].fillna(\"\")])\n"
      ]
    },
    {
      "cell_type": "code",
      "execution_count": 18,
      "metadata": {
        "colab": {
          "base_uri": "https://localhost:8080/"
        },
        "id": "_lYw4rynSAOu",
        "outputId": "a04d9835-1d62-451c-b94f-868d0f6fa77e"
      },
      "outputs": [
        {
          "name": "stdout",
          "output_type": "stream",
          "text": [
            "(91226, 1444)\n"
          ]
        }
      ],
      "source": [
        "# TF-IDF is sparse, embedding is dense → convert dense to sparse\n",
        "embedding_sparse = csr_matrix(embedding_features)\n",
        "\n",
        "X_combined = hstack([hashtag_tfidf, embedding_sparse])\n",
        "print(X_combined.shape)\n"
      ]
    },
    {
      "cell_type": "code",
      "execution_count": 19,
      "metadata": {
        "colab": {
          "base_uri": "https://localhost:8080/",
          "height": 564
        },
        "id": "RFrsp2TkSJQw",
        "outputId": "5b61e9eb-cdf0-4e8b-bcb1-c9a9ae31a2c7"
      },
      "outputs": [
        {
          "data": {
            "image/png": "[encoded data removed]",
            "text/plain": [
              "<Figure size 800x600 with 1 Axes>"
            ]
          },
          "metadata": {},
          "output_type": "display_data"
        }
      ],
      "source": [
        "k = 3  # choose based on silhouette or elbow method\n",
        "kmeans = MiniBatchKMeans(n_clusters=k, random_state=42, batch_size=10)\n",
        "product_type_df['cluster'] = kmeans.fit_predict(X_combined)\n",
        "\n",
        "from sklearn.decomposition import PCA\n",
        "import matplotlib.pyplot as plt\n",
        "\n",
        "# Reduce to 2D\n",
        "pca = PCA(random_state=42)\n",
        "X_2d = pca.fit_transform(X_combined.toarray())  # convert sparse to dense if needed\n",
        "\n",
        "plt.figure(figsize=(8,6))\n",
        "plt.scatter(X_2d[:,0], X_2d[:,1], c=product_type_df['cluster'], cmap='tab10', s=12)\n",
        "plt.title(\"MiniBatchKMeans Clusters (2D PCA projection)\")\n",
        "plt.xlabel(\"PC1\")\n",
        "plt.ylabel(\"PC2\")\n",
        "plt.show()"
      ]
    },
    {
      "cell_type": "code",
      "execution_count": 58,
      "metadata": {
        "id": "2pxWoH3f141w"
      },
      "outputs": [],
      "source": [
        "# --- Define mapping for cluster labels ---\n",
        "cluster_mapping = {\n",
        "    0: \"Cosmetics & Skincare\",\n",
        "    1: \"Hair Styling & Care\",\n",
        "    2: \"Lifestyle & Product Reviews\"\n",
        "}\n",
        "\n",
        "# --- Apply mapping ---\n",
        "product_type_df[\"cluster_label\"] = product_type_df[\"cluster\"].map(cluster_mapping)\n"
      ]
    },
    {
      "cell_type": "code",
      "execution_count": 64,
      "metadata": {
        "colab": {
          "base_uri": "https://localhost:8080/"
        },
        "id": "8gEJY4hL2YSS",
        "outputId": "8316216e-98e5-45a1-ec3b-e87230523ae9"
      },
      "outputs": [
        {
          "name": "stdout",
          "output_type": "stream",
          "text": [
            "Index(['videoId', 'channelId', 'hashtags_cleaned', 'cluster', 'cluster_label'], dtype='object')\n"
          ]
        }
      ],
      "source": [
        "print(product_type_df.columns)"
      ]
    },
    {
      "cell_type": "code",
      "execution_count": 68,
      "metadata": {
        "colab": {
          "base_uri": "https://localhost:8080/",
          "height": 339
        },
        "id": "85zsG_Pp2dpu",
        "outputId": "353ed640-0833-43e9-cdb6-4d8474bd81f7"
      },
      "outputs": [
        {
          "ename": "KeyError",
          "evalue": "\"['title', 'description', 'tags', 'contentDuration', 'topicNames', 'text', 'hashtags', 'clean_text', 'duration_seconds', 'duration_hhmmss'] not found in axis\"",
          "output_type": "error",
          "traceback": [
            "\u001b[0;31m---------------------------------------------------------------------------\u001b[0m",
            "\u001b[0;31mKeyError\u001b[0m                                  Traceback (most recent call last)",
            "\u001b[0;32m/tmp/ipython-input-2758007878.py\u001b[0m in \u001b[0;36m<cell line: 0>\u001b[0;34m()\u001b[0m\n\u001b[0;32m----> 1\u001b[0;31m product_type_df = product_type_df.drop(['title', 'description', 'tags','contentDuration', \n\u001b[0m\u001b[1;32m      2\u001b[0m                                         \u001b[0;34m'topicNames'\u001b[0m\u001b[0;34m,\u001b[0m \u001b[0;34m'text'\u001b[0m\u001b[0;34m,\u001b[0m \u001b[0;34m'hashtags'\u001b[0m\u001b[0;34m,\u001b[0m \u001b[0;34m'clean_text'\u001b[0m\u001b[0;34m,\u001b[0m\u001b[0;34m\u001b[0m\u001b[0;34m\u001b[0m\u001b[0m\n\u001b[1;32m      3\u001b[0m                                         'duration_seconds', 'duration_hhmmss',], axis=1)\n",
            "\u001b[0;32m/usr/local/lib/python3.12/dist-packages/pandas/core/frame.py\u001b[0m in \u001b[0;36mdrop\u001b[0;34m(self, labels, axis, index, columns, level, inplace, errors)\u001b[0m\n\u001b[1;32m   5579\u001b[0m                 \u001b[0mweight\u001b[0m  \u001b[0;36m1.0\u001b[0m     \u001b[0;36m0.8\u001b[0m\u001b[0;34m\u001b[0m\u001b[0;34m\u001b[0m\u001b[0m\n\u001b[1;32m   5580\u001b[0m         \"\"\"\n\u001b[0;32m-> 5581\u001b[0;31m         return super().drop(\n\u001b[0m\u001b[1;32m   5582\u001b[0m             \u001b[0mlabels\u001b[0m\u001b[0;34m=\u001b[0m\u001b[0mlabels\u001b[0m\u001b[0;34m,\u001b[0m\u001b[0;34m\u001b[0m\u001b[0;34m\u001b[0m\u001b[0m\n\u001b[1;32m   5583\u001b[0m             \u001b[0maxis\u001b[0m\u001b[0;34m=\u001b[0m\u001b[0maxis\u001b[0m\u001b[0;34m,\u001b[0m\u001b[0;34m\u001b[0m\u001b[0;34m\u001b[0m\u001b[0m\n",
            "\u001b[0;32m/usr/local/lib/python3.12/dist-packages/pandas/core/generic.py\u001b[0m in \u001b[0;36mdrop\u001b[0;34m(self, labels, axis, index, columns, level, inplace, errors)\u001b[0m\n\u001b[1;32m   4786\u001b[0m         \u001b[0;32mfor\u001b[0m \u001b[0maxis\u001b[0m\u001b[0;34m,\u001b[0m \u001b[0mlabels\u001b[0m \u001b[0;32min\u001b[0m \u001b[0maxes\u001b[0m\u001b[0;34m.\u001b[0m\u001b[0mitems\u001b[0m\u001b[0;34m(\u001b[0m\u001b[0;34m)\u001b[0m\u001b[0;34m:\u001b[0m\u001b[0;34m\u001b[0m\u001b[0;34m\u001b[0m\u001b[0m\n\u001b[1;32m   4787\u001b[0m             \u001b[0;32mif\u001b[0m \u001b[0mlabels\u001b[0m \u001b[0;32mis\u001b[0m \u001b[0;32mnot\u001b[0m \u001b[0;32mNone\u001b[0m\u001b[0;34m:\u001b[0m\u001b[0;34m\u001b[0m\u001b[0;34m\u001b[0m\u001b[0m\n\u001b[0;32m-> 4788\u001b[0;31m                 \u001b[0mobj\u001b[0m \u001b[0;34m=\u001b[0m \u001b[0mobj\u001b[0m\u001b[0;34m.\u001b[0m\u001b[0m_drop_axis\u001b[0m\u001b[0;34m(\u001b[0m\u001b[0mlabels\u001b[0m\u001b[0;34m,\u001b[0m \u001b[0maxis\u001b[0m\u001b[0;34m,\u001b[0m \u001b[0mlevel\u001b[0m\u001b[0;34m=\u001b[0m\u001b[0mlevel\u001b[0m\u001b[0;34m,\u001b[0m \u001b[0merrors\u001b[0m\u001b[0;34m=\u001b[0m\u001b[0merrors\u001b[0m\u001b[0;34m)\u001b[0m\u001b[0;34m\u001b[0m\u001b[0;34m\u001b[0m\u001b[0m\n\u001b[0m\u001b[1;32m   4789\u001b[0m \u001b[0;34m\u001b[0m\u001b[0m\n\u001b[1;32m   4790\u001b[0m         \u001b[0;32mif\u001b[0m \u001b[0minplace\u001b[0m\u001b[0;34m:\u001b[0m\u001b[0;34m\u001b[0m\u001b[0;34m\u001b[0m\u001b[0m\n",
            "\u001b[0;32m/usr/local/lib/python3.12/dist-packages/pandas/core/generic.py\u001b[0m in \u001b[0;36m_drop_axis\u001b[0;34m(self, labels, axis, level, errors, only_slice)\u001b[0m\n\u001b[1;32m   4828\u001b[0m                 \u001b[0mnew_axis\u001b[0m \u001b[0;34m=\u001b[0m \u001b[0maxis\u001b[0m\u001b[0;34m.\u001b[0m\u001b[0mdrop\u001b[0m\u001b[0;34m(\u001b[0m\u001b[0mlabels\u001b[0m\u001b[0;34m,\u001b[0m \u001b[0mlevel\u001b[0m\u001b[0;34m=\u001b[0m\u001b[0mlevel\u001b[0m\u001b[0;34m,\u001b[0m \u001b[0merrors\u001b[0m\u001b[0;34m=\u001b[0m\u001b[0merrors\u001b[0m\u001b[0;34m)\u001b[0m\u001b[0;34m\u001b[0m\u001b[0;34m\u001b[0m\u001b[0m\n\u001b[1;32m   4829\u001b[0m             \u001b[0;32melse\u001b[0m\u001b[0;34m:\u001b[0m\u001b[0;34m\u001b[0m\u001b[0;34m\u001b[0m\u001b[0m\n\u001b[0;32m-> 4830\u001b[0;31m                 \u001b[0mnew_axis\u001b[0m \u001b[0;34m=\u001b[0m \u001b[0maxis\u001b[0m\u001b[0;34m.\u001b[0m\u001b[0mdrop\u001b[0m\u001b[0;34m(\u001b[0m\u001b[0mlabels\u001b[0m\u001b[0;34m,\u001b[0m \u001b[0merrors\u001b[0m\u001b[0;34m=\u001b[0m\u001b[0merrors\u001b[0m\u001b[0;34m)\u001b[0m\u001b[0;34m\u001b[0m\u001b[0;34m\u001b[0m\u001b[0m\n\u001b[0m\u001b[1;32m   4831\u001b[0m             \u001b[0mindexer\u001b[0m \u001b[0;34m=\u001b[0m \u001b[0maxis\u001b[0m\u001b[0;34m.\u001b[0m\u001b[0mget_indexer\u001b[0m\u001b[0;34m(\u001b[0m\u001b[0mnew_axis\u001b[0m\u001b[0;34m)\u001b[0m\u001b[0;34m\u001b[0m\u001b[0;34m\u001b[0m\u001b[0m\n\u001b[1;32m   4832\u001b[0m \u001b[0;34m\u001b[0m\u001b[0m\n",
            "\u001b[0;32m/usr/local/lib/python3.12/dist-packages/pandas/core/indexes/base.py\u001b[0m in \u001b[0;36mdrop\u001b[0;34m(self, labels, errors)\u001b[0m\n\u001b[1;32m   7068\u001b[0m         \u001b[0;32mif\u001b[0m \u001b[0mmask\u001b[0m\u001b[0;34m.\u001b[0m\u001b[0many\u001b[0m\u001b[0;34m(\u001b[0m\u001b[0;34m)\u001b[0m\u001b[0;34m:\u001b[0m\u001b[0;34m\u001b[0m\u001b[0;34m\u001b[0m\u001b[0m\n\u001b[1;32m   7069\u001b[0m             \u001b[0;32mif\u001b[0m \u001b[0merrors\u001b[0m \u001b[0;34m!=\u001b[0m \u001b[0;34m\"ignore\"\u001b[0m\u001b[0;34m:\u001b[0m\u001b[0;34m\u001b[0m\u001b[0;34m\u001b[0m\u001b[0m\n\u001b[0;32m-> 7070\u001b[0;31m                 \u001b[0;32mraise\u001b[0m \u001b[0mKeyError\u001b[0m\u001b[0;34m(\u001b[0m\u001b[0;34mf\"{labels[mask].tolist()} not found in axis\"\u001b[0m\u001b[0;34m)\u001b[0m\u001b[0;34m\u001b[0m\u001b[0;34m\u001b[0m\u001b[0m\n\u001b[0m\u001b[1;32m   7071\u001b[0m             \u001b[0mindexer\u001b[0m \u001b[0;34m=\u001b[0m \u001b[0mindexer\u001b[0m\u001b[0;34m[\u001b[0m\u001b[0;34m~\u001b[0m\u001b[0mmask\u001b[0m\u001b[0;34m]\u001b[0m\u001b[0;34m\u001b[0m\u001b[0;34m\u001b[0m\u001b[0m\n\u001b[1;32m   7072\u001b[0m         \u001b[0;32mreturn\u001b[0m \u001b[0mself\u001b[0m\u001b[0;34m.\u001b[0m\u001b[0mdelete\u001b[0m\u001b[0;34m(\u001b[0m\u001b[0mindexer\u001b[0m\u001b[0;34m)\u001b[0m\u001b[0;34m\u001b[0m\u001b[0;34m\u001b[0m\u001b[0m\n",
            "\u001b[0;31mKeyError\u001b[0m: \"['title', 'description', 'tags', 'contentDuration', 'topicNames', 'text', 'hashtags', 'clean_text', 'duration_seconds', 'duration_hhmmss'] not found in axis\""
          ]
        }
      ],
      "source": [
        "product_type_df = product_type_df.drop(['title', 'description', 'tags','contentDuration',\n",
        "                                        'topicNames', 'text', 'hashtags', 'clean_text',\n",
        "                                        'duration_seconds', 'duration_hhmmss',], axis=1)"
      ]
    },
    {
      "cell_type": "code",
      "execution_count": 69,
      "metadata": {
        "colab": {
          "base_uri": "https://localhost:8080/"
        },
        "id": "7MsK_-hQmT6p",
        "outputId": "929fdfdf-93fc-4db4-8291-d6c4eaf4b6e9"
      },
      "outputs": [
        {
          "name": "stdout",
          "output_type": "stream",
          "text": [
            "Clusters saved to product_type_classified.csv\n"
          ]
        }
      ],
      "source": [
        "# Save clusters to CSV\n",
        "output_file = \"product_type_classified.csv\"\n",
        "product_type_df.to_csv(output_file, index=False)\n",
        "\n",
        "print(f\"Clusters saved to {output_file}\")\n"
      ]
    },
    {
      "cell_type": "markdown",
      "metadata": {
        "id": "rLvl6AexUz9I"
      },
      "source": [
        "# Identify Video Type"
      ]
    },
    {
      "cell_type": "code",
      "execution_count": 27,
      "metadata": {
        "id": "oDjueA4SsouY"
      },
      "outputs": [],
      "source": [
        "video_type_df = pd.read_csv(\"cleaned_data.csv\")"
      ]
    },
    {
      "cell_type": "code",
      "execution_count": 38,
      "metadata": {
        "colab": {
          "base_uri": "https://localhost:8080/"
        },
        "id": "ITIgoiOErysg",
        "outputId": "f145335c-78b3-410c-d77e-d2f15143d132"
      },
      "outputs": [
        {
          "name": "stdout",
          "output_type": "stream",
          "text": [
            "Index(['videoId', 'publishedAt', 'channelId', 'title', 'description', 'tags',\n",
            "       'contentDuration', 'viewCount', 'likeCount', 'favouriteCount',\n",
            "       'commentCount', 'topicNames', 'text', 'hashtags', 'clean_text',\n",
            "       'hashtags_cleaned', 'duration_seconds', 'duration_hhmmss',\n",
            "       'video_type'],\n",
            "      dtype='object')\n"
          ]
        }
      ],
      "source": [
        "print(video_type_df.columns)"
      ]
    },
    {
      "cell_type": "code",
      "execution_count": 53,
      "metadata": {
        "id": "oheQiSC2t8E1"
      },
      "outputs": [],
      "source": [
        "video_type_keywords = {\n",
        "    \"Tutorial\": [\n",
        "        \"tutorial\", \"howto\", \"how-to\", \"guide\", \"learn\", \"training\", \"course\",\n",
        "        \"step\", \"routine\", \"beginners\", \"diy\", \"easy\", \"tips\", \"tricks\", \"hack\", \"hacks\",\n",
        "        \"makeup\", \"skincare\", \"contour\", \"eyeliner\", \"brows\", \"hairstyle\",\n",
        "        \"haircare\", \"keratin\", \"smoothing\", \"cut\", \"color\", \"styling\",\n",
        "        \"straightener\", \"toner\", \"exfoliation\", \"gel\", \"mask\", \"sunscreen\"\n",
        "    ],\n",
        "    \"Review\": [\n",
        "        \"review\", \"reviews\", \"unboxing\", \"haul\", \"recommendation\", \"feedback\",\n",
        "        \"product\", \"products\", \"test\", \"comparison\", \"opinions\", \"services\", \"content\",\n",
        "        \"try\", \"testing\", \"swatch\", \"glow\", \"cream\", \"foundation\", \"serum\",\n",
        "        \"moisturizer\", \"perfume\", \"shampoo\", \"filler\", \"lotion\", \"spf\", \"toner\",\n",
        "        \"nail\", \"lipliner\", \"concealer\", \"lashes\", \"mascara\"\n",
        "    ],\n",
        "    \"Tips\": [\n",
        "        \"tips\", \"tricks\", \"hacks\", \"hack\", \"ideas\", \"secrets\", \"advice\",\n",
        "        \"diy\", \"try\", \"glowup\", \"brightening\", \"antiaging\", \"confidence\",\n",
        "        \"inspiration\", \"affordable\", \"best\", \"top\", \"must\", \"healthy\", \"setting\",\n",
        "        \"clean\", \"smooth\", \"shine\", \"hydrated\"\n",
        "    ],\n",
        "    \"Vlog\": [\n",
        "        \"vlog\", \"vlogs\", \"lifestyle\", \"daily\", \"journey\", \"routine\", \"stories\",\n",
        "        \"life\", \"day\", \"blogger\", \"travel\", \"story\", \"everyday\", \"ootd\", \"follow\",\n",
        "        \"content\", \"creator\", \"fashion\", \"outfit\", \"instagram\", \"insta\", \"reels\",\n",
        "        \"tiktok\", \"youtube\", \"shorts\", \"song\", \"music\", \"vloglife\", \"page\", \"explore\"\n",
        "    ],\n",
        "    \"Transformation\": [\n",
        "        \"transformation\", \"transform\", \"makeover\", \"beforeafter\", \"before\", \"after\",\n",
        "        \"glowup\", \"transition\", \"aging\", \"antiaging\", \"wrinkles\", \"change\", \"cut\",\n",
        "        \"dye\", \"highlights\", \"balay\", \"straightening\", \"blowout\", \"bleaching\",\n",
        "        \"smoothing\", \"curls\", \"ombre\", \"keratin\", \"botox\", \"hairdo\"\n",
        "    ],\n",
        "    \"Product Showcase\": [\n",
        "        \"shopping\", \"collection\", \"store\", \"amazon\", \"sephora\", \"launch\", \"sale\",\n",
        "        \"discount\", \"showcase\", \"demo\", \"feature\", \"brand\", \"cosmetics\", \"fragrance\",\n",
        "        \"perfume\", \"foundation\", \"lipstick\", \"eyeshadow\", \"mascara\", \"cream\", \"serum\",\n",
        "        \"bronzer\", \"blush\", \"powder\", \"concealer\", \"lotion\", \"unboxing\", \"luxury\",\n",
        "        \"loreal\", \"avon\", \"dior\", \"nars\", \"huda\", \"fenty\", \"kylie\", \"charlotte\",\n",
        "        \"tilbury\", \"lakme\", \"rare\", \"trending\", \"accessories\"\n",
        "    ],\n",
        "}\n"
      ]
    },
    {
      "cell_type": "code",
      "execution_count": 65,
      "metadata": {
        "id": "QN6wmI7XUzxq"
      },
      "outputs": [],
      "source": [
        "# --- Function to detect video type from hashtags ---\n",
        "def detect_video_type(hashtags):\n",
        "    hashtags = str(hashtags).lower()\n",
        "    for vtype, keywords in video_type_keywords.items():\n",
        "        for kw in keywords:\n",
        "            if kw in hashtags:\n",
        "                return vtype\n",
        "    return \"Other\"  # fallback if no keyword matches\n",
        "\n",
        "# --- Apply detection ---\n",
        "video_type_df[\"video_type\"] = video_type_df[\"hashtags_cleaned\"].apply(detect_video_type)\n"
      ]
    },
    {
      "cell_type": "code",
      "execution_count": 71,
      "metadata": {
        "id": "WEoaYqFS2wJ6"
      },
      "outputs": [],
      "source": [
        "video_type_df = video_type_df.drop(['title', 'description', 'tags','contentDuration',\n",
        "                                    'topicNames', 'text', 'hashtags', 'clean_text',\n",
        "                                    'duration_seconds', 'duration_hhmmss',\n",
        "                                    'viewCount', 'likeCount', 'favouriteCount',\n",
        "                                    'commentCount',], axis=1)"
      ]
    },
    {
      "cell_type": "code",
      "execution_count": 72,
      "metadata": {
        "id": "latVbZ7g2zaB"
      },
      "outputs": [],
      "source": [
        "# --- Save result ---\n",
        "video_type_df.to_csv(\"video_type_classified.csv\", index=False)"
      ]
    },
    {
      "cell_type": "markdown",
      "metadata": {
        "id": "DasyDzCFmWAz"
      },
      "source": [
        "# TF-IDF"
      ]
    },
    {
      "cell_type": "code",
      "execution_count": 31,
      "metadata": {
        "id": "wLuQOuGNfC8g"
      },
      "outputs": [],
      "source": [
        "from sklearn.feature_extraction.text import TfidfVectorizer\n",
        "import pandas as pd"
      ]
    },
    {
      "cell_type": "code",
      "execution_count": 32,
      "metadata": {
        "collapsed": true,
        "id": "s87Q4aZynMT4"
      },
      "outputs": [],
      "source": [
        "# TF-IDF vectorizer\n",
        "vectorizer = TfidfVectorizer(min_df=5)  # top 100 words; adjust as needed\n",
        "tfidf_matrix = vectorizer.fit_transform(product_type_df[\"hashtags_cleaned\"].fillna(\"\"))\n",
        "\n",
        "# Get feature names (words)\n",
        "words = vectorizer.get_feature_names_out()\n",
        "\n",
        "# Sum TF-IDF scores across all rows to get overall importance in the column\n",
        "scores = tfidf_matrix.sum(axis=0).A1  # convert matrix to 1D array\n",
        "\n",
        "# Create DataFrame\n",
        "tfidf_df = pd.DataFrame({\"word\": words, \"tfidf_score\": scores})\n",
        "\n",
        "# Sort by score descending\n",
        "tfidf_df = tfidf_df.sort_values(by=\"tfidf_score\", ascending=False).reset_index(drop=True)\n",
        "\n",
        "# Save to CSV\n",
        "tfidf_df.to_csv(\"tfidf_text_column.csv\", index=False)\n"
      ]
    },
    {
      "cell_type": "markdown",
      "metadata": {
        "id": "xGRfLYTKmgYD"
      },
      "source": [
        "Words Count"
      ]
    },
    {
      "cell_type": "code",
      "execution_count": 33,
      "metadata": {
        "colab": {
          "base_uri": "https://localhost:8080/"
        },
        "collapsed": true,
        "id": "_EsQBh-kk9_3",
        "outputId": "a7b3edfa-f677-4013-bc27-0a7298b3800b"
      },
      "outputs": [
        {
          "name": "stdout",
          "output_type": "stream",
          "text": [
            "Total words across all videos: 1618563\n",
            "Saved word counts to word_counts.csv\n"
          ]
        }
      ],
      "source": [
        "from collections import Counter\n",
        "\n",
        "# Combine all rows into a single string\n",
        "all_words = \" \".join(product_type_df[\"hashtags_cleaned\"].dropna()).split()\n",
        "\n",
        "# Count occurrences of each word\n",
        "word_counts = Counter(all_words)\n",
        "\n",
        "# Convert Counter to DataFrame\n",
        "word_count_df = pd.DataFrame(word_counts.items(), columns=[\"word\", \"count\"])\n",
        "\n",
        "# Sort by count descending\n",
        "word_count_df = word_count_df.sort_values(by=\"count\", ascending=False).reset_index(drop=True)\n",
        "\n",
        "# Save word counts to CSV\n",
        "word_count_df.to_csv(\"word_counts.csv\", index=False)\n",
        "\n",
        "total_words = len(all_words)\n",
        "print(f\"Total words across all videos: {total_words}\")\n",
        "\n",
        "print(\"Saved word counts to word_counts.csv\")\n"
      ]
    },
    {
      "cell_type": "markdown",
      "metadata": {
        "id": "W_53g0IgmjM5"
      },
      "source": [
        "Row Counts"
      ]
    },
    {
      "cell_type": "code",
      "execution_count": 34,
      "metadata": {
        "colab": {
          "base_uri": "https://localhost:8080/"
        },
        "id": "KsFcAar-pzR0",
        "outputId": "4e23110a-293e-4d7a-b1f2-2a2370744dec"
      },
      "outputs": [
        {
          "name": "stdout",
          "output_type": "stream",
          "text": [
            "Save word counts to df_frequency.csv\n"
          ]
        }
      ],
      "source": [
        "# Suppose your column is \"text\"\n",
        "column_name = \"hashtags_cleaned\"\n",
        "\n",
        "# Initialize a Counter to store document frequency\n",
        "df_counts = Counter()\n",
        "\n",
        "# Iterate through each row\n",
        "for text in product_type_df[column_name].dropna():\n",
        "    words = set(text.split())  # use set to count each word only once per row\n",
        "    df_counts.update(words)\n",
        "\n",
        "# Convert to DataFrame\n",
        "df_frequency = pd.DataFrame(df_counts.items(), columns=[\"word\", \"row_count\"])\n",
        "df_frequency = df_frequency.sort_values(by=\"row_count\", ascending=False).reset_index(drop=True)\n",
        "\n",
        "df_frequency.to_csv(\"document_frequency.csv\", index=False)\n",
        "\n",
        "print(\"Save word counts to df_frequency.csv\")\n"
      ]
    }
  ],
  "metadata": {
    "colab": {
      "collapsed_sections": [
        "7y-uDp0mmatt"
      ],
      "provenance": []
    },
    "kernelspec": {
      "display_name": "Python 3",
      "name": "python3"
    },
    "language_info": {
      "name": "python"
    }
  },
  "nbformat": 4,
  "nbformat_minor": 0
}
